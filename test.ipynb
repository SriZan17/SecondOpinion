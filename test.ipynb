{
 "cells": [
  {
   "cell_type": "code",
   "execution_count": 5,
   "metadata": {},
   "outputs": [],
   "source": [
    "import torch\n",
    "from torch import nn\n",
    "from torch.utils.data import DataLoader\n",
    "from torchvision import datasets, transforms\n",
    "import random\n",
    "from PIL import Image\n",
    "from pathlib import Path\n",
    "import matplotlib.pyplot as plt\n",
    "from tqdm.auto import tqdm\n",
    "from timeit import default_timer as timer\n",
    "import os\n",
    "from typing import Dict, List\n",
    "\n",
    "\n",
    "def main():\n",
    "    NUM_EPOCHS = 7\n",
    "    BATCH_SIZE = 32\n",
    "    NUM_WORKERS = os.cpu_count() - 1\n",
    "    DEVICE = torch.device(\"cuda\" if torch.cuda.is_available() else \"cpu\")\n",
    "\n",
    "    # Transformation for images\n",
    "    train_data_transform = transforms.Compose(\n",
    "        [\n",
    "            # Resize the images to 64x64\n",
    "            transforms.Resize(size=(64, 64)),\n",
    "            transforms.TrivialAugmentWide(num_magnitude_bins=31),\n",
    "            transforms.ToTensor(),\n",
    "        ]\n",
    "    )\n",
    "    test_data_transform = transforms.Compose(\n",
    "        [\n",
    "            transforms.Resize(size=(64, 64)),\n",
    "            transforms.ToTensor(),\n",
    "        ]\n",
    "    )\n",
    "\n",
    "    data_path = Path(\"data/\")\n",
    "    image_path = data_path / \"Tumors\"\n",
    "    train_dir = image_path / \"train\"\n",
    "    test_dir = image_path / \"test\"\n",
    "    # image_path_list = list(image_path.glob(\"*/*/*.jpg\"))\n",
    "    # plot_transformed_images(image_path_list, transform=data_transform, n=3)\n",
    "\n",
    "    train_data = datasets.ImageFolder(\n",
    "        root=train_dir,  # target folder of images\n",
    "        transform=train_data_transform,\n",
    "    )\n",
    "    print(len(train_data.classes))"
   ]
  },
  {
   "cell_type": "code",
   "execution_count": 3,
   "metadata": {},
   "outputs": [
    {
     "ename": "NameError",
     "evalue": "name 'train' is not defined",
     "output_type": "error",
     "traceback": [
      "\u001b[1;31m---------------------------------------------------------------------------\u001b[0m",
      "\u001b[1;31mNameError\u001b[0m                                 Traceback (most recent call last)",
      "\u001b[1;32mc:\\Users\\sRjN\\Desktop\\Python\\SecondOpinion\\test.ipynb Cell 2\u001b[0m line \u001b[0;36m1\n\u001b[1;32m----> <a href='vscode-notebook-cell:/c%3A/Users/sRjN/Desktop/Python/SecondOpinion/test.ipynb#W3sZmlsZQ%3D%3D?line=0'>1</a>\u001b[0m train\n",
      "\u001b[1;31mNameError\u001b[0m: name 'train' is not defined"
     ]
    }
   ],
   "source": []
  }
 ],
 "metadata": {
  "kernelspec": {
   "display_name": "base",
   "language": "python",
   "name": "python3"
  },
  "language_info": {
   "codemirror_mode": {
    "name": "ipython",
    "version": 3
   },
   "file_extension": ".py",
   "mimetype": "text/x-python",
   "name": "python",
   "nbconvert_exporter": "python",
   "pygments_lexer": "ipython3",
   "version": "3.11.5"
  }
 },
 "nbformat": 4,
 "nbformat_minor": 2
}
